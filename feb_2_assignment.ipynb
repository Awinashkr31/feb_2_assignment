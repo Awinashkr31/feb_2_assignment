{
 "cells": [
  {
   "cell_type": "code",
   "execution_count": 18,
   "id": "5a174b89-2237-4ad4-ab2b-f663b7e9a8f2",
   "metadata": {},
   "outputs": [],
   "source": [
    "# Q1. Explain with an example each when to use a for loop and a while loop."
   ]
  },
  {
   "cell_type": "code",
   "execution_count": 14,
   "id": "0aa1e0dc-e6ad-4366-9981-2d2d9d8657f2",
   "metadata": {},
   "outputs": [
    {
     "name": "stdout",
     "output_type": "stream",
     "text": [
      "0\n",
      "1\n",
      "2\n",
      "3\n",
      "4\n",
      "5\n",
      "6\n",
      "7\n",
      "8\n",
      "9\n",
      "0\n",
      "1\n",
      "2\n",
      "3\n",
      "4\n",
      "5\n",
      "6\n",
      "7\n",
      "8\n",
      "9\n"
     ]
    },
    {
     "data": {
      "text/plain": [
       "' In this example, the while loop will repeat as long as counter is less than 10.\\n    The value of counter is incremented by 1 each iteration, so eventually the condition counter < 10 will become false,\\n     and the loop will stop. '"
      ]
     },
     "execution_count": 14,
     "metadata": {},
     "output_type": "execute_result"
    }
   ],
   "source": [
    "\"\"\" A \"for loop\" and a \"while loop\" are two common types of loops used in programming.\n",
    "    They are used to execute a block of code multiple times, until a certain condition is met.\n",
    "\n",
    "A for loop is used when you have a known number of iterations, or when you want to repeat the loop a \n",
    "specific number of times. Here's an example in Python: \"\"\" \n",
    "       \n",
    "for i in range(10):\n",
    "    print(i)\n",
    "    \n",
    "\"\"\" In this example, the for loop will iterate 10 times, and the value of i will change from 0 to 9.\n",
    "     The range(10) function generates a sequence of numbers from 0 to 9.\n",
    "\n",
    " On the other hand, a \"while loop\" is used when you don't know the number of iterations beforehand \n",
    "  and you want to repeat the loop as long as a certain condition is true. Here's an example in Python: \"\"\"\n",
    "  \n",
    "counter = 0\n",
    "\n",
    "while counter < 10:\n",
    "    print(counter)\n",
    "    counter = counter + 1  \n",
    "    \n",
    "\"\"\" In this example, the while loop will repeat as long as counter is less than 10.\n",
    "    The value of counter is incremented by 1 each iteration, so eventually the condition counter < 10 will become false,\n",
    "     and the loop will stop. \"\"\""
   ]
  },
  {
   "cell_type": "code",
   "execution_count": null,
   "id": "b554f562-6c8d-4df6-a406-240c89c8aa8a",
   "metadata": {},
   "outputs": [],
   "source": [
    "# Q2. Write a python program to print the sum and product of the first 10 natural numbers using for and while loop."
   ]
  },
  {
   "cell_type": "code",
   "execution_count": 13,
   "id": "d4cb7046-4146-4b4c-a289-1be9213940cd",
   "metadata": {},
   "outputs": [
    {
     "name": "stdout",
     "output_type": "stream",
     "text": [
      " sum of the first 10 natural numbers (using for loop) is: 55\n",
      " product of the first 10 natural numbers (using for loop) is: 3628800\n",
      " sum of the first 10 natural numbers (using while loop) is: 55\n",
      " product of the first 10 natural numbers (using while loop) is: 3628800\n"
     ]
    }
   ],
   "source": [
    "# Using for loop\n",
    "sum = 0\n",
    "product = 1\n",
    "\n",
    "for i in range(1, 11):\n",
    "    sum = sum + i\n",
    "    product = product * i\n",
    "\n",
    "print(\" sum of the first 10 natural numbers (using for loop) is:\", sum)\n",
    "print(\" product of the first 10 natural numbers (using for loop) is:\", product)\n",
    "\n",
    "# Using while loop\n",
    "counter = 1\n",
    "sum = 0\n",
    "product = 1\n",
    "\n",
    "while counter <= 10:\n",
    "    sum = sum + counter\n",
    "    product = product * counter\n",
    "    counter = counter + 1\n",
    "\n",
    "print(\" sum of the first 10 natural numbers (using while loop) is:\", sum)\n",
    "print(\" product of the first 10 natural numbers (using while loop) is:\", product)\n"
   ]
  },
  {
   "cell_type": "code",
   "execution_count": 19,
   "id": "9b2fa074-fc04-43bd-9f4a-9097813624ba",
   "metadata": {},
   "outputs": [],
   "source": [
    "# Q3.  Create a python program to compute the electricity bill for a household"
   ]
  },
  {
   "cell_type": "code",
   "execution_count": 16,
   "id": "ae176689-9964-46ba-b1af-cce0d43e16f8",
   "metadata": {},
   "outputs": [
    {
     "name": "stdin",
     "output_type": "stream",
     "text": [
      "Enter the number of units consumed in a month:  310\n"
     ]
    },
    {
     "name": "stdout",
     "output_type": "stream",
     "text": [
      "The total electricity bill is: Rs. 2250.0\n"
     ]
    }
   ],
   "source": [
    "units = int(input(\"Enter the number of units consumed in a month: \"))\n",
    "if units <= 100:\n",
    "    bill = units * 4.5\n",
    "elif units <= 200:\n",
    "    bill = (100*4.5) + ((units-100)*6)\n",
    "elif units <= 300:\n",
    "    bill = (100* 4.5) + (100* 6) + ((units - 200)*10)\n",
    "else :\n",
    "    bill = (100 * 4.5) + (100*6) + (100 * 10) + ((units -300)*20)\n",
    "print(\"The total electricity bill is: Rs.\", bill)"
   ]
  },
  {
   "cell_type": "code",
   "execution_count": 17,
   "id": "40285468-91c9-46ea-ad89-3725f7625cef",
   "metadata": {},
   "outputs": [],
   "source": [
    "# Q4. Create a list of numbers from 1 to 100. Use for loop and while loop to calculate the cube of each\n",
    "#     number and if the cube of that number is divisible by 4 or 5 then append that number in a list and print that list."
   ]
  },
  {
   "cell_type": "code",
   "execution_count": 20,
   "id": "a5561c40-2bea-4b83-8493-160fd857e8df",
   "metadata": {},
   "outputs": [
    {
     "name": "stdout",
     "output_type": "stream",
     "text": [
      "The cubes of numbers divisible by 4 or 5 (using for loop): [8, 64, 125, 216, 512, 1000, 1728, 2744, 3375, 4096, 5832, 8000, 10648, 13824, 15625, 17576, 21952, 27000, 32768, 39304, 42875, 46656, 54872, 64000, 74088, 85184, 91125, 97336, 110592, 125000, 140608, 157464, 166375, 175616, 195112, 216000, 238328, 262144, 274625, 287496, 314432, 343000, 373248, 405224, 421875, 438976, 474552, 512000, 551368, 592704, 614125, 636056, 681472, 729000, 778688, 830584, 857375, 884736, 941192, 1000000]\n",
      "The cubes of numbers divisible by 4 or 5 (using while loop): [8, 64, 125, 216, 512, 1000, 1728, 2744, 3375, 4096, 5832, 8000, 10648, 13824, 15625, 17576, 21952, 27000, 32768, 39304, 42875, 46656, 54872, 64000, 74088, 85184, 91125, 97336, 110592, 125000, 140608, 157464, 166375, 175616, 195112, 216000, 238328, 262144, 274625, 287496, 314432, 343000, 373248, 405224, 421875, 438976, 474552, 512000, 551368, 592704, 614125, 636056, 681472, 729000, 778688, 830584, 857375, 884736, 941192, 1000000]\n"
     ]
    }
   ],
   "source": [
    "numbers = list(range(1, 101))\n",
    "cubes = []\n",
    "\n",
    "# Using for loop\n",
    "for num in numbers:\n",
    "    cube = num ** 3\n",
    "    if cube % 4 == 0 or cube % 5 == 0:\n",
    "        cubes.append(cube)\n",
    "\n",
    "print(\"The cubes of numbers divisible by 4 or 5 (using for loop):\", cubes)\n",
    "\n",
    "# Using while loop\n",
    "counter = 0\n",
    "cubes = []\n",
    "\n",
    "while counter < 100:\n",
    "    num = numbers[counter]\n",
    "    cube = num ** 3\n",
    "    if cube % 4 == 0 or cube % 5 == 0:\n",
    "        cubes.append(cube)\n",
    "    counter = counter + 1\n",
    "\n",
    "print(\"The cubes of numbers divisible by 4 or 5 (using while loop):\", cubes)\n"
   ]
  },
  {
   "cell_type": "code",
   "execution_count": 21,
   "id": "8ebeac7c-44b3-478a-b77b-f54b73a00270",
   "metadata": {},
   "outputs": [],
   "source": [
    "# Q5. Write a program to filter count vowels in the below-given string.\n",
    "#      string = \"I want to become a data scientist\""
   ]
  },
  {
   "cell_type": "code",
   "execution_count": 22,
   "id": "dd42fd07-72b3-421e-9070-f1107c8588a6",
   "metadata": {},
   "outputs": [
    {
     "name": "stdout",
     "output_type": "stream",
     "text": [
      "The number of vowels in the string is: 12\n"
     ]
    }
   ],
   "source": [
    "string = \"I want to become a data scientist\"\n",
    "vowels = \"aeiouAEIOU\"\n",
    "count = 0\n",
    "\n",
    "for character in string:\n",
    "    if character in vowels:\n",
    "        count += 1\n",
    "\n",
    "print(\"The number of vowels in the string is:\", count)\n"
   ]
  },
  {
   "cell_type": "code",
   "execution_count": null,
   "id": "18034474-2c53-4acc-a861-1430a6c9a2ad",
   "metadata": {},
   "outputs": [],
   "source": []
  }
 ],
 "metadata": {
  "kernelspec": {
   "display_name": "Python 3 (ipykernel)",
   "language": "python",
   "name": "python3"
  },
  "language_info": {
   "codemirror_mode": {
    "name": "ipython",
    "version": 3
   },
   "file_extension": ".py",
   "mimetype": "text/x-python",
   "name": "python",
   "nbconvert_exporter": "python",
   "pygments_lexer": "ipython3",
   "version": "3.10.8"
  }
 },
 "nbformat": 4,
 "nbformat_minor": 5
}
